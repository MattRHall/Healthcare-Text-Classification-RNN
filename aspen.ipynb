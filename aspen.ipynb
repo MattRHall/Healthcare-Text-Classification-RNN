{
 "cells": [
  {
   "cell_type": "code",
   "execution_count": 2,
   "metadata": {},
   "outputs": [],
   "source": [
    "import pandas as pd\n",
    "import numpy as np\n",
    "import os\n",
    "import matplotlib.pyplot as plt\n",
    "import re\n",
    "import tensorflow as tf\n",
    "\n",
    "import warnings\n",
    "warnings.filterwarnings('ignore')"
   ]
  },
  {
   "cell_type": "markdown",
   "metadata": {},
   "source": [
    "# IMPORT DATA\n",
    "- **comments.csv** Contains raw patient comments.\n",
    "- **apen.csv** Contains scores for attention to physical and environmental needs (0 = irrelevant, 1 = worst, 5 = best)\n"
   ]
  },
  {
   "cell_type": "code",
   "execution_count": 14,
   "metadata": {},
   "outputs": [
    {
     "name": "stdout",
     "output_type": "stream",
     "text": [
      "Number of rows 9357\n"
     ]
    },
    {
     "data": {
      "text/html": [
       "<div>\n",
       "<style scoped>\n",
       "    .dataframe tbody tr th:only-of-type {\n",
       "        vertical-align: middle;\n",
       "    }\n",
       "\n",
       "    .dataframe tbody tr th {\n",
       "        vertical-align: top;\n",
       "    }\n",
       "\n",
       "    .dataframe thead th {\n",
       "        text-align: right;\n",
       "    }\n",
       "</style>\n",
       "<table border=\"1\" class=\"dataframe\">\n",
       "  <thead>\n",
       "    <tr style=\"text-align: right;\">\n",
       "      <th></th>\n",
       "      <th>id</th>\n",
       "      <th>comment</th>\n",
       "      <th>apen</th>\n",
       "    </tr>\n",
       "  </thead>\n",
       "  <tbody>\n",
       "    <tr>\n",
       "      <th>0</th>\n",
       "      <td>5876</td>\n",
       "      <td>I was told I wasnt allowed in with my house ma...</td>\n",
       "      <td>1.0</td>\n",
       "    </tr>\n",
       "    <tr>\n",
       "      <th>1</th>\n",
       "      <td>6555</td>\n",
       "      <td>Imagine telling a Rheumatoid Arthritis suffere...</td>\n",
       "      <td>0.0</td>\n",
       "    </tr>\n",
       "    <tr>\n",
       "      <th>2</th>\n",
       "      <td>1448</td>\n",
       "      <td>Not exactly loved, but good to go when it's re...</td>\n",
       "      <td>4.0</td>\n",
       "    </tr>\n",
       "    <tr>\n",
       "      <th>3</th>\n",
       "      <td>3351</td>\n",
       "      <td>Shower facilities had a clear plastic bag of w...</td>\n",
       "      <td>0.0</td>\n",
       "    </tr>\n",
       "    <tr>\n",
       "      <th>4</th>\n",
       "      <td>231</td>\n",
       "      <td>Is worst place what I seen in my life. 8h wait...</td>\n",
       "      <td>0.0</td>\n",
       "    </tr>\n",
       "  </tbody>\n",
       "</table>\n",
       "</div>"
      ],
      "text/plain": [
       "     id                                            comment  apen\n",
       "0  5876  I was told I wasnt allowed in with my house ma...   1.0\n",
       "1  6555  Imagine telling a Rheumatoid Arthritis suffere...   0.0\n",
       "2  1448  Not exactly loved, but good to go when it's re...   4.0\n",
       "3  3351  Shower facilities had a clear plastic bag of w...   0.0\n",
       "4   231  Is worst place what I seen in my life. 8h wait...   0.0"
      ]
     },
     "execution_count": 14,
     "metadata": {},
     "output_type": "execute_result"
    }
   ],
   "source": [
    "# Import data & merge comments and treatment scores\n",
    "df_comments = pd.read_csv(\"comments.csv\")\n",
    "df_treatment = pd.read_csv(\"apen.csv\")\n",
    "df = pd.merge(df_comments, df_treatment, how=\"inner\")\n",
    "\n",
    "# 643 blank comments (those rows remove)\n",
    "df = df.dropna(axis = 0)\n",
    "\n",
    "# 9357 samples to work with\n",
    "print(f'Number of rows {len(df)}')\n",
    "\n",
    "df.head(5)"
   ]
  },
  {
   "cell_type": "code",
   "execution_count": 15,
   "metadata": {},
   "outputs": [
    {
     "data": {
      "text/plain": [
       "0.0    7425\n",
       "5.0     973\n",
       "4.0     431\n",
       "1.0     314\n",
       "2.0     199\n",
       "3.0      15\n",
       "Name: apen, dtype: int64"
      ]
     },
     "execution_count": 15,
     "metadata": {},
     "output_type": "execute_result"
    }
   ],
   "source": [
    "# Very imbalanced dataset. Not many 1/2/3 (makes sense to map to binaries)\n",
    "df[\"apen\"].value_counts()"
   ]
  },
  {
   "cell_type": "code",
   "execution_count": 16,
   "metadata": {},
   "outputs": [
    {
     "data": {
      "text/html": [
       "<div>\n",
       "<style scoped>\n",
       "    .dataframe tbody tr th:only-of-type {\n",
       "        vertical-align: middle;\n",
       "    }\n",
       "\n",
       "    .dataframe tbody tr th {\n",
       "        vertical-align: top;\n",
       "    }\n",
       "\n",
       "    .dataframe thead th {\n",
       "        text-align: right;\n",
       "    }\n",
       "</style>\n",
       "<table border=\"1\" class=\"dataframe\">\n",
       "  <thead>\n",
       "    <tr style=\"text-align: right;\">\n",
       "      <th></th>\n",
       "      <th>id</th>\n",
       "      <th>comment</th>\n",
       "      <th>apen</th>\n",
       "    </tr>\n",
       "  </thead>\n",
       "  <tbody>\n",
       "    <tr>\n",
       "      <th>0</th>\n",
       "      <td>5876</td>\n",
       "      <td>I was told I wasnt allowed in with my house ma...</td>\n",
       "      <td>1.0</td>\n",
       "    </tr>\n",
       "    <tr>\n",
       "      <th>1</th>\n",
       "      <td>6555</td>\n",
       "      <td>Imagine telling a Rheumatoid Arthritis suffere...</td>\n",
       "      <td>0.0</td>\n",
       "    </tr>\n",
       "    <tr>\n",
       "      <th>2</th>\n",
       "      <td>1448</td>\n",
       "      <td>Not exactly loved, but good to go when it's re...</td>\n",
       "      <td>1.0</td>\n",
       "    </tr>\n",
       "    <tr>\n",
       "      <th>3</th>\n",
       "      <td>3351</td>\n",
       "      <td>Shower facilities had a clear plastic bag of w...</td>\n",
       "      <td>0.0</td>\n",
       "    </tr>\n",
       "    <tr>\n",
       "      <th>4</th>\n",
       "      <td>231</td>\n",
       "      <td>Is worst place what I seen in my life. 8h wait...</td>\n",
       "      <td>0.0</td>\n",
       "    </tr>\n",
       "  </tbody>\n",
       "</table>\n",
       "</div>"
      ],
      "text/plain": [
       "     id                                            comment  apen\n",
       "0  5876  I was told I wasnt allowed in with my house ma...   1.0\n",
       "1  6555  Imagine telling a Rheumatoid Arthritis suffere...   0.0\n",
       "2  1448  Not exactly loved, but good to go when it's re...   1.0\n",
       "3  3351  Shower facilities had a clear plastic bag of w...   0.0\n",
       "4   231  Is worst place what I seen in my life. 8h wait...   0.0"
      ]
     },
     "execution_count": 16,
     "metadata": {},
     "output_type": "execute_result"
    }
   ],
   "source": [
    "# Replace all values >0 with 0.\n",
    "df[\"apen\"].replace({1:1, 2:1, 3:1, 4:1, 5:1}, inplace=True)\n",
    "df.head(5)"
   ]
  },
  {
   "cell_type": "code",
   "execution_count": 17,
   "metadata": {},
   "outputs": [
    {
     "data": {
      "text/plain": [
       "{0.0: 7425, 1.0: 1932}"
      ]
     },
     "execution_count": 17,
     "metadata": {},
     "output_type": "execute_result"
    }
   ],
   "source": [
    "# Still imbalanced\n",
    "class_weights = dict(df[\"apen\"].value_counts())\n",
    "class_weights"
   ]
  },
  {
   "cell_type": "markdown",
   "metadata": {},
   "source": [
    "# Preprocess Data"
   ]
  },
  {
   "cell_type": "code",
   "execution_count": 18,
   "metadata": {},
   "outputs": [],
   "source": [
    "# Replace # and @ which are appear frequently at beginning of some words\n",
    "df[\"comment\"] = df[\"comment\"].map(lambda x: x.replace(\"#\", \"\"))\n",
    "df[\"comment\"] = df[\"comment\"].map(lambda x: x.replace(\"@\", \"\"))\n",
    "\n",
    "# Focus on words, i.e. remove numbers and punctuation\n",
    "def words_only(x):\n",
    "    return \" \".join(re.findall(r\"[\\w']+\", x))\n",
    "df[\"comment\"] = df[\"comment\"].apply(words_only)"
   ]
  },
  {
   "cell_type": "code",
   "execution_count": 19,
   "metadata": {},
   "outputs": [
    {
     "name": "stdout",
     "output_type": "stream",
     "text": [
      "vocab_size 16893\n"
     ]
    }
   ],
   "source": [
    "# Tokenize text (punctuation removed by default, words moved to lower case, all words kept in this case)\n",
    "sentences = list(df[\"comment\"])\n",
    "tokenizer = tf.keras.preprocessing.text.Tokenizer(lower=True, split = ' ')\n",
    "tokenizer.fit_on_texts(sentences)\n",
    "\n",
    "vocab_size = len(tokenizer.word_counts)\n",
    "print(f'vocab_size {vocab_size}')\n",
    "\n",
    "word2idx = tokenizer.word_index\n",
    "idx2word = {v:k for (k,v) in word2idx.items()}"
   ]
  },
  {
   "cell_type": "code",
   "execution_count": 20,
   "metadata": {},
   "outputs": [
    {
     "name": "stdout",
     "output_type": "stream",
     "text": [
      "[(75, 56.0), (80, 68.0), (90, 113.0), (95, 163.0), (99, 328.4400000000005), (100, 1384.0)]\n"
     ]
    }
   ],
   "source": [
    "# To save computations I am going to truncate after 100 words (c. 90% + won't be affected)\n",
    "seq_lengths = np.array([len(s.split()) for s in sentences])\n",
    "print([(p, np.percentile(seq_lengths, p)) for p in [75, 80, 90, 95, 99, 100]])\n",
    "max_seqlen = 100"
   ]
  },
  {
   "cell_type": "markdown",
   "metadata": {},
   "source": [
    "# Prepare Dataset"
   ]
  },
  {
   "cell_type": "code",
   "execution_count": 22,
   "metadata": {},
   "outputs": [
    {
     "name": "stdout",
     "output_type": "stream",
     "text": [
      "Example sentence before: Your whole walk in treatment process was faultless as was the treatment\n",
      "Example sentence after: [ 101  269  431    8   64  382    6 1608   32    6    1   64    0    0\n",
      "    0    0    0    0    0    0    0    0    0    0    0    0    0    0\n",
      "    0    0    0    0    0    0    0    0    0    0    0    0    0    0\n",
      "    0    0    0    0    0    0    0    0    0    0    0    0    0    0\n",
      "    0    0    0    0    0    0    0    0    0    0    0    0    0    0\n",
      "    0    0    0    0    0    0    0    0    0    0    0    0    0    0\n",
      "    0    0    0    0    0    0    0    0    0    0    0    0    0    0\n",
      "    0    0]\n"
     ]
    }
   ],
   "source": [
    "# Vectorize sentences by turning words -> unique integers\n",
    "sentences_as_ints = tokenizer.texts_to_sequences(sentences)\n",
    "sentences_as_ints = tf.keras.preprocessing.sequence.pad_sequences(sentences_as_ints, maxlen=max_seqlen, padding='post')\n",
    "label_as_ints = np.array(df[\"apen\"])\n",
    "\n",
    "print(f'Example sentence before: {sentences[5]}')\n",
    "print(f'Example sentence after: {sentences_as_ints[5]}')"
   ]
  },
  {
   "cell_type": "code",
   "execution_count": 23,
   "metadata": {},
   "outputs": [],
   "source": [
    "# Create a tensorflow dataset out of the data / labels (allows for transformations / iteration)\n",
    "dataset = tf.data.Dataset.from_tensor_slices((sentences_as_ints, label_as_ints))"
   ]
  },
  {
   "cell_type": "markdown",
   "metadata": {},
   "source": [
    "# Train / Test / Split"
   ]
  },
  {
   "cell_type": "code",
   "execution_count": 24,
   "metadata": {},
   "outputs": [
    {
     "name": "stdout",
     "output_type": "stream",
     "text": [
      "train: 7485, val: 936, test: 936\n"
     ]
    }
   ],
   "source": [
    "# Shuffle dataset, split into c. 80%, 10%, 10%.\n",
    "dataset = dataset.shuffle(10000)\n",
    "test_size = round(len(sentences)*0.10)\n",
    "val_size = round(len(sentences)*0.10)\n",
    "test_dataset = dataset.take(test_size)\n",
    "val_dataset = dataset.skip(test_size).take(val_size)\n",
    "train_dataset = dataset.skip(test_size + val_size)\n",
    "print(f'train: {train_dataset.cardinality()}, val: {val_dataset.cardinality()}, test: {test_dataset.cardinality()}')"
   ]
  },
  {
   "cell_type": "markdown",
   "metadata": {},
   "source": []
  },
  {
   "cell_type": "code",
   "execution_count": 25,
   "metadata": {},
   "outputs": [],
   "source": [
    "# Batch dataset for faster training\n",
    "batch_size = 64\n",
    "train_dataset = train_dataset.batch(batch_size)\n",
    "val_dataset = val_dataset.batch(batch_size)\n",
    "test_dataset = test_dataset.batch(batch_size)"
   ]
  },
  {
   "cell_type": "markdown",
   "metadata": {},
   "source": [
    "# Model Build / Training"
   ]
  },
  {
   "cell_type": "code",
   "execution_count": 26,
   "metadata": {},
   "outputs": [],
   "source": [
    "# Bidrectional LSTM\n",
    "class TreatmentClassifier(tf.keras.Model):\n",
    "    def __init__(self, vocab_size, max_seqlen, **kwargs):\n",
    "        super(TreatmentClassifier, self).__init__(**kwargs)\n",
    "        self.embedding = tf.keras.layers.Embedding(vocab_size, max_seqlen)\n",
    "        self.bilstm = tf.keras.layers.Bidirectional(tf.keras.layers.LSTM(max_seqlen))\n",
    "        self.dense = tf.keras.layers.Dense(100, activation = 'relu')\n",
    "        self.out = tf.keras.layers.Dense(1, activation = 'sigmoid')\n",
    "\n",
    "    def call(self, x):\n",
    "        x = self.embedding(x)\n",
    "        x = self.bilstm(x)\n",
    "        x = self.dense(x)\n",
    "        x = self.out(x)\n",
    "        return x"
   ]
  },
  {
   "cell_type": "code",
   "execution_count": 27,
   "metadata": {},
   "outputs": [
    {
     "name": "stdout",
     "output_type": "stream",
     "text": [
      "Model: \"treatment_classifier\"\n",
      "_________________________________________________________________\n",
      "Layer (type)                 Output Shape              Param #   \n",
      "=================================================================\n",
      "embedding (Embedding)        multiple                  1689400   \n",
      "_________________________________________________________________\n",
      "bidirectional (Bidirectional multiple                  160800    \n",
      "_________________________________________________________________\n",
      "dense (Dense)                multiple                  20100     \n",
      "_________________________________________________________________\n",
      "dense_1 (Dense)              multiple                  101       \n",
      "=================================================================\n",
      "Total params: 1,870,401\n",
      "Trainable params: 1,870,401\n",
      "Non-trainable params: 0\n",
      "_________________________________________________________________\n"
     ]
    }
   ],
   "source": [
    "model = TreatmentClassifier(vocab_size+1, max_seqlen)\n",
    "model.build(input_shape=(batch_size, max_seqlen))\n",
    "model.summary()"
   ]
  },
  {
   "cell_type": "code",
   "execution_count": 29,
   "metadata": {},
   "outputs": [],
   "source": [
    "# Save best model, set up call backs\n",
    "data_dir = \"./data\"\n",
    "logs_dir = os.path.join(\"./logs\")\n",
    "best_model_file = os.path.join(data_dir, \"best_model_apen.h5\")\n",
    "checkpoint = tf.keras.callbacks.ModelCheckpoint(best_model_file, save_weights_only=True, save_best_only=True)\n",
    "tensorboard = tf.keras.callbacks.TensorBoard(log_dir=logs_dir)"
   ]
  },
  {
   "cell_type": "code",
   "execution_count": 30,
   "metadata": {},
   "outputs": [
    {
     "name": "stdout",
     "output_type": "stream",
     "text": [
      "Epoch 1/10\n",
      "  1/117 [..............................] - ETA: 0s - loss: 4654.0215 - accuracy: 0.6875WARNING:tensorflow:From C:\\ProgramData\\Anaconda3\\envs\\tensorflow\\lib\\site-packages\\tensorflow\\python\\ops\\summary_ops_v2.py:1277: stop (from tensorflow.python.eager.profiler) is deprecated and will be removed after 2020-07-01.\n",
      "Instructions for updating:\n",
      "use `tf.profiler.experimental.stop` instead.\n",
      "  2/117 [..............................] - ETA: 1:32 - loss: 4576.4614 - accuracy: 0.7812WARNING:tensorflow:Callbacks method `on_train_batch_end` is slow compared to the batch time (batch time: 0.3178s vs `on_train_batch_end` time: 1.2901s). Check your callbacks.\n",
      "117/117 [==============================] - 56s 474ms/step - loss: 1536.7275 - accuracy: 0.7977 - val_loss: 0.3964 - val_accuracy: 0.8237\n",
      "Epoch 2/10\n",
      "117/117 [==============================] - 56s 479ms/step - loss: 934.7787 - accuracy: 0.8728 - val_loss: 0.2793 - val_accuracy: 0.9038\n",
      "Epoch 3/10\n",
      "117/117 [==============================] - 64s 545ms/step - loss: 632.3220 - accuracy: 0.9204 - val_loss: 0.2712 - val_accuracy: 0.9145\n",
      "Epoch 4/10\n",
      "117/117 [==============================] - 60s 513ms/step - loss: 528.8871 - accuracy: 0.9337 - val_loss: 0.1548 - val_accuracy: 0.9530\n",
      "Epoch 5/10\n",
      "117/117 [==============================] - 56s 479ms/step - loss: 414.5672 - accuracy: 0.9508 - val_loss: 0.1023 - val_accuracy: 0.9658\n",
      "Epoch 6/10\n",
      "117/117 [==============================] - 55s 473ms/step - loss: 328.6930 - accuracy: 0.9598 - val_loss: 0.0799 - val_accuracy: 0.9776\n",
      "Epoch 7/10\n",
      "117/117 [==============================] - 55s 470ms/step - loss: 241.1994 - accuracy: 0.9715 - val_loss: 0.0671 - val_accuracy: 0.9776\n",
      "Epoch 8/10\n",
      "117/117 [==============================] - 54s 465ms/step - loss: 245.6241 - accuracy: 0.9702 - val_loss: 0.0954 - val_accuracy: 0.9658\n",
      "Epoch 9/10\n",
      "117/117 [==============================] - 53s 457ms/step - loss: 198.4380 - accuracy: 0.9762 - val_loss: 0.0498 - val_accuracy: 0.9861\n",
      "Epoch 10/10\n",
      "117/117 [==============================] - 53s 454ms/step - loss: 129.3209 - accuracy: 0.9832 - val_loss: 0.0200 - val_accuracy: 0.9915\n"
     ]
    }
   ],
   "source": [
    "# Number epochs = 10 (train on data 10 times), passing through 117 batches (of 64). Add class weights. Add callbacks.\n",
    "num_epochs = 10\n",
    "model.compile(loss=\"binary_crossentropy\", optimizer=\"adam\", metrics=[\"accuracy\"])\n",
    "history = model.fit(train_dataset, epochs=num_epochs, validation_data=val_dataset, class_weight = class_weights, callbacks=[checkpoint, tensorboard])"
   ]
  },
  {
   "cell_type": "markdown",
   "metadata": {},
   "source": [
    "# Model Analysis"
   ]
  },
  {
   "cell_type": "code",
   "execution_count": 31,
   "metadata": {},
   "outputs": [
    {
     "data": {
      "image/png": "[encoded data removed]",
      "text/plain": [
       "<Figure size 432x288 with 1 Axes>"
      ]
     },
     "metadata": {
      "needs_background": "light"
     },
     "output_type": "display_data"
    }
   ],
   "source": [
    "# Plot History and BCE loss. Nice training profile. High train and validation accuracy.\n",
    "plt.plot(history.history[\"accuracy\"])\n",
    "plt.plot(history.history[\"val_accuracy\"])\n",
    "plt.xlabel(\"Epochs\")\n",
    "plt.ylabel(\"accuracy\")\n",
    "plt.legend([\"accuracy\", \"val_accuracy\"])\n",
    "plt.show()\n"
   ]
  },
  {
   "cell_type": "code",
   "execution_count": 32,
   "metadata": {},
   "outputs": [],
   "source": [
    "# Download best model from each epoch (vs. validation data)\n",
    "best_model = TreatmentClassifier(vocab_size+1, max_seqlen)\n",
    "best_model.build(input_shape=(batch_size, max_seqlen))\n",
    "best_model.load_weights(best_model_file)\n",
    "best_model.compile(loss=\"binary_crossentropy\", optimizer=\"adam\", metrics=[\"accuracy\"])"
   ]
  },
  {
   "cell_type": "code",
   "execution_count": 33,
   "metadata": {},
   "outputs": [
    {
     "name": "stdout",
     "output_type": "stream",
     "text": [
      "15/15 [==============================] - 1s 72ms/step - loss: 0.0339 - accuracy: 0.9904\n",
      "test accuracy: 0.9903846383094788, test_loss: 0.03385428339242935\n"
     ]
    }
   ],
   "source": [
    "# Test data performance....98.4% accuracy\n",
    "test_loss, test_acc = best_model.evaluate(test_dataset)\n",
    "print(f'test accuracy: {test_acc}, test_loss: {test_loss}')"
   ]
  },
  {
   "cell_type": "code",
   "execution_count": 34,
   "metadata": {},
   "outputs": [
    {
     "name": "stdout",
     "output_type": "stream",
     "text": [
      "CONFUSION MATRIX\n"
     ]
    },
    {
     "data": {
      "text/plain": [
       "array([[761,   1],\n",
       "       [  7, 167]], dtype=int64)"
      ]
     },
     "execution_count": 34,
     "metadata": {},
     "output_type": "execute_result"
    }
   ],
   "source": [
    "# Confusion Matrix. \n",
    "preds = []\n",
    "labels = []\n",
    "for test_batch in test_dataset:\n",
    "    inputs_b, labels_b = test_batch\n",
    "    pred_batch = best_model.predict(inputs_b)\n",
    "    preds.extend([1 if p > 0.5 else 0] for p in pred_batch)\n",
    "    labels.extend([l.numpy() for l in labels_b])\n",
    "\n",
    "false_pos = []\n",
    "false_neg = []\n",
    "for i in range(len(labels)):\n",
    "    if preds[i] != labels[i]:\n",
    "        if preds[i] == [1] and labels[i] == 0:\n",
    "            false_pos.append(i)\n",
    "        if preds[i] == [0] and labels[i] == 1:\n",
    "            false_neg.append(i)\n",
    "\n",
    "print(f'CONFUSION MATRIX')\n",
    "from sklearn.metrics import confusion_matrix\n",
    "confusion_matrix(labels, preds)"
   ]
  },
  {
   "cell_type": "code",
   "execution_count": 35,
   "metadata": {},
   "outputs": [
    {
     "name": "stdout",
     "output_type": "stream",
     "text": [
      "false positive indices: [856]\n",
      "-----\n",
      "it was carried out in a professional way with kind people\n"
     ]
    }
   ],
   "source": [
    "# Look at false positives\n",
    "false_pos_vectors = []\n",
    "counter = 0\n",
    "for x in test_dataset.unbatch():\n",
    "    if counter in false_pos:\n",
    "        inputs_b, labels_b = x\n",
    "        false_pos_vectors.append(inputs_b)\n",
    "    counter += 1\n",
    "\n",
    "print(f'false positive indices: {false_pos}')\n",
    "\n",
    "for vector in false_pos_vectors:\n",
    "    print(\"-----\")\n",
    "    print(\" \".join([idx2word[i] for i in list(vector.numpy()) if i !=0]))"
   ]
  },
  {
   "cell_type": "code",
   "execution_count": 36,
   "metadata": {},
   "outputs": [
    {
     "name": "stdout",
     "output_type": "stream",
     "text": [
      "false negative indices: [40, 267, 316, 358, 479, 562, 798]\n",
      "-----\n",
      "the nurses are so friendly and professional help me relax and nothing is to much trouble\n",
      "-----\n",
      "hospital stay during covid was less than ideal but stgeorgestrust care was fantastic the free fast wifi made the stay so much easier free wifi especially important for patients at a time when no visitors are allowed the nhs outstandingcareeverytime\n",
      "-----\n",
      "the cleftteambch are so thoughtful bham childrens have always been amazing thank you https t co 7ocrw8rney\n",
      "-----\n",
      "waiting time\n",
      "-----\n",
      "me with an online safety magazine which triggered a mental breakdown i nearly killed myself several times due to the lack of therapy i've had over the past 4 years i simply had to just help myself get better seeing as no one from this hospital could be bothered to help me if anyone is thinking about going to this hospital or is being referred to this hospital i'm begging you don't go there consider my story consider the lives that were lost here due to suicide because the next life lost due to this poor hospital could be you\n",
      "-----\n",
      "the care from the staff is second to none\n",
      "-----\n",
      "1 for very good\n"
     ]
    }
   ],
   "source": [
    "# Look at false negatives\n",
    "false_neg_vectors = []\n",
    "counter = 0\n",
    "for x in test_dataset.unbatch():\n",
    "    if counter in false_neg:\n",
    "        inputs_b, labels_b = x\n",
    "        false_neg_vectors.append(inputs_b)\n",
    "    counter += 1\n",
    "\n",
    "print(f'false negative indices: {false_neg}')\n",
    "\n",
    "for vector in false_neg_vectors:\n",
    "    print(\"-----\")\n",
    "    print(\" \".join([idx2word[i] for i in list(vector.numpy()) if i !=0]))"
   ]
  },
  {
   "cell_type": "code",
   "execution_count": null,
   "metadata": {},
   "outputs": [],
   "source": []
  }
 ],
 "metadata": {
  "interpreter": {
   "hash": "b3ba2566441a7c06988d0923437866b63cedc61552a5af99d1f4fb67d367b25f"
  },
  "kernelspec": {
   "display_name": "Python 3.8.8 64-bit ('base': conda)",
   "language": "python",
   "name": "python3"
  },
  "language_info": {
   "codemirror_mode": {
    "name": "ipython",
    "version": 3
   },
   "file_extension": ".py",
   "mimetype": "text/x-python",
   "name": "python",
   "nbconvert_exporter": "python",
   "pygments_lexer": "ipython3",
   "version": "3.8.12"
  },
  "orig_nbformat": 4
 },
 "nbformat": 4,
 "nbformat_minor": 2
}
