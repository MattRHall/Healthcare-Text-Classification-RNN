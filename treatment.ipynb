{
 "cells": [
  {
   "cell_type": "code",
   "execution_count": 2,
   "metadata": {},
   "outputs": [],
   "source": [
    "import pandas as pd\n",
    "import numpy as np\n",
    "import os\n",
    "import matplotlib.pyplot as plt\n",
    "import re\n",
    "import tensorflow as tf\n",
    "\n",
    "import warnings\n",
    "warnings.filterwarnings('ignore')"
   ]
  },
  {
   "cell_type": "markdown",
   "metadata": {},
   "source": [
    "# IMPORT DATA\n",
    "- **comments.csv** Contains raw patient comments.\n",
    "- **efftreat.csv** Contains scores for treatment (0 = irrelevant, 1 = worst, 5 = best)\n"
   ]
  },
  {
   "cell_type": "code",
   "execution_count": 3,
   "metadata": {},
   "outputs": [
    {
     "name": "stdout",
     "output_type": "stream",
     "text": [
      "Number of rows 9357\n"
     ]
    },
    {
     "data": {
      "text/html": [
       "<div>\n",
       "<style scoped>\n",
       "    .dataframe tbody tr th:only-of-type {\n",
       "        vertical-align: middle;\n",
       "    }\n",
       "\n",
       "    .dataframe tbody tr th {\n",
       "        vertical-align: top;\n",
       "    }\n",
       "\n",
       "    .dataframe thead th {\n",
       "        text-align: right;\n",
       "    }\n",
       "</style>\n",
       "<table border=\"1\" class=\"dataframe\">\n",
       "  <thead>\n",
       "    <tr style=\"text-align: right;\">\n",
       "      <th></th>\n",
       "      <th>id</th>\n",
       "      <th>comment</th>\n",
       "      <th>efftreat</th>\n",
       "    </tr>\n",
       "  </thead>\n",
       "  <tbody>\n",
       "    <tr>\n",
       "      <th>0</th>\n",
       "      <td>5876</td>\n",
       "      <td>I was told I wasnt allowed in with my house ma...</td>\n",
       "      <td>1.0</td>\n",
       "    </tr>\n",
       "    <tr>\n",
       "      <th>1</th>\n",
       "      <td>6555</td>\n",
       "      <td>Imagine telling a Rheumatoid Arthritis suffere...</td>\n",
       "      <td>1.0</td>\n",
       "    </tr>\n",
       "    <tr>\n",
       "      <th>2</th>\n",
       "      <td>1448</td>\n",
       "      <td>Not exactly loved, but good to go when it's re...</td>\n",
       "      <td>4.0</td>\n",
       "    </tr>\n",
       "    <tr>\n",
       "      <th>3</th>\n",
       "      <td>3351</td>\n",
       "      <td>Shower facilities had a clear plastic bag of w...</td>\n",
       "      <td>0.0</td>\n",
       "    </tr>\n",
       "    <tr>\n",
       "      <th>4</th>\n",
       "      <td>231</td>\n",
       "      <td>Is worst place what I seen in my life. 8h wait...</td>\n",
       "      <td>4.0</td>\n",
       "    </tr>\n",
       "  </tbody>\n",
       "</table>\n",
       "</div>"
      ],
      "text/plain": [
       "     id                                            comment  efftreat\n",
       "0  5876  I was told I wasnt allowed in with my house ma...       1.0\n",
       "1  6555  Imagine telling a Rheumatoid Arthritis suffere...       1.0\n",
       "2  1448  Not exactly loved, but good to go when it's re...       4.0\n",
       "3  3351  Shower facilities had a clear plastic bag of w...       0.0\n",
       "4   231  Is worst place what I seen in my life. 8h wait...       4.0"
      ]
     },
     "execution_count": 3,
     "metadata": {},
     "output_type": "execute_result"
    }
   ],
   "source": [
    "# Import data & merge comments and treatment scores\n",
    "df_comments = pd.read_csv(\"comments.csv\")\n",
    "df_treatment = pd.read_csv(\"efftreat.csv\")\n",
    "df = pd.merge(df_comments, df_treatment, how=\"inner\")\n",
    "\n",
    "# 643 blank comments (those rows remove)\n",
    "df = df.dropna(axis = 0)\n",
    "\n",
    "# 9357 samples to work with\n",
    "print(f'Number of rows {len(df)}')\n",
    "\n",
    "df.head(5)"
   ]
  },
  {
   "cell_type": "code",
   "execution_count": 4,
   "metadata": {},
   "outputs": [
    {
     "data": {
      "text/plain": [
       "5.0    4289\n",
       "0.0    3019\n",
       "4.0    1021\n",
       "1.0     546\n",
       "2.0     430\n",
       "3.0      52\n",
       "Name: efftreat, dtype: int64"
      ]
     },
     "execution_count": 4,
     "metadata": {},
     "output_type": "execute_result"
    }
   ],
   "source": [
    "# Very imbalanced dataset. Not many 1/2/3 (makes sense to map to binaries)\n",
    "df[\"efftreat\"].value_counts()"
   ]
  },
  {
   "cell_type": "code",
   "execution_count": 5,
   "metadata": {},
   "outputs": [
    {
     "data": {
      "text/html": [
       "<div>\n",
       "<style scoped>\n",
       "    .dataframe tbody tr th:only-of-type {\n",
       "        vertical-align: middle;\n",
       "    }\n",
       "\n",
       "    .dataframe tbody tr th {\n",
       "        vertical-align: top;\n",
       "    }\n",
       "\n",
       "    .dataframe thead th {\n",
       "        text-align: right;\n",
       "    }\n",
       "</style>\n",
       "<table border=\"1\" class=\"dataframe\">\n",
       "  <thead>\n",
       "    <tr style=\"text-align: right;\">\n",
       "      <th></th>\n",
       "      <th>id</th>\n",
       "      <th>comment</th>\n",
       "      <th>efftreat</th>\n",
       "    </tr>\n",
       "  </thead>\n",
       "  <tbody>\n",
       "    <tr>\n",
       "      <th>0</th>\n",
       "      <td>5876</td>\n",
       "      <td>I was told I wasnt allowed in with my house ma...</td>\n",
       "      <td>1.0</td>\n",
       "    </tr>\n",
       "    <tr>\n",
       "      <th>1</th>\n",
       "      <td>6555</td>\n",
       "      <td>Imagine telling a Rheumatoid Arthritis suffere...</td>\n",
       "      <td>1.0</td>\n",
       "    </tr>\n",
       "    <tr>\n",
       "      <th>2</th>\n",
       "      <td>1448</td>\n",
       "      <td>Not exactly loved, but good to go when it's re...</td>\n",
       "      <td>1.0</td>\n",
       "    </tr>\n",
       "    <tr>\n",
       "      <th>3</th>\n",
       "      <td>3351</td>\n",
       "      <td>Shower facilities had a clear plastic bag of w...</td>\n",
       "      <td>0.0</td>\n",
       "    </tr>\n",
       "    <tr>\n",
       "      <th>4</th>\n",
       "      <td>231</td>\n",
       "      <td>Is worst place what I seen in my life. 8h wait...</td>\n",
       "      <td>1.0</td>\n",
       "    </tr>\n",
       "  </tbody>\n",
       "</table>\n",
       "</div>"
      ],
      "text/plain": [
       "     id                                            comment  efftreat\n",
       "0  5876  I was told I wasnt allowed in with my house ma...       1.0\n",
       "1  6555  Imagine telling a Rheumatoid Arthritis suffere...       1.0\n",
       "2  1448  Not exactly loved, but good to go when it's re...       1.0\n",
       "3  3351  Shower facilities had a clear plastic bag of w...       0.0\n",
       "4   231  Is worst place what I seen in my life. 8h wait...       1.0"
      ]
     },
     "execution_count": 5,
     "metadata": {},
     "output_type": "execute_result"
    }
   ],
   "source": [
    "# Replace all values >0 with 0.\n",
    "df[\"efftreat\"].replace({1:1, 2:1, 3:1, 4:1, 5:1}, inplace=True)\n",
    "df.head(5)"
   ]
  },
  {
   "cell_type": "code",
   "execution_count": 6,
   "metadata": {},
   "outputs": [
    {
     "data": {
      "text/plain": [
       "{1.0: 6338, 0.0: 3019}"
      ]
     },
     "execution_count": 6,
     "metadata": {},
     "output_type": "execute_result"
    }
   ],
   "source": [
    "# Still imbalanced\n",
    "class_weights = dict(df[\"efftreat\"].value_counts())\n",
    "class_weights"
   ]
  },
  {
   "cell_type": "markdown",
   "metadata": {},
   "source": [
    "# Preprocess Data"
   ]
  },
  {
   "cell_type": "code",
   "execution_count": 7,
   "metadata": {},
   "outputs": [],
   "source": [
    "# Replace # and @ which are appear frequently at beginning of some words\n",
    "df[\"comment\"] = df[\"comment\"].map(lambda x: x.replace(\"#\", \"\"))\n",
    "df[\"comment\"] = df[\"comment\"].map(lambda x: x.replace(\"@\", \"\"))\n",
    "\n",
    "# Focus on words, i.e. remove numbers and punctuation\n",
    "def words_only(x):\n",
    "    return \" \".join(re.findall(r\"[\\w']+\", x))\n",
    "df[\"comment\"] = df[\"comment\"].apply(words_only)"
   ]
  },
  {
   "cell_type": "code",
   "execution_count": 8,
   "metadata": {},
   "outputs": [
    {
     "name": "stdout",
     "output_type": "stream",
     "text": [
      "vocab_size 16893\n"
     ]
    }
   ],
   "source": [
    "# Tokenize text (punctuation removed by default, words moved to lower case, all words kept in this case)\n",
    "sentences = list(df[\"comment\"])\n",
    "tokenizer = tf.keras.preprocessing.text.Tokenizer(lower=True, split = ' ')\n",
    "tokenizer.fit_on_texts(sentences)\n",
    "\n",
    "vocab_size = len(tokenizer.word_counts)\n",
    "print(f'vocab_size {vocab_size}')\n",
    "\n",
    "word2idx = tokenizer.word_index\n",
    "idx2word = {v:k for (k,v) in word2idx.items()}"
   ]
  },
  {
   "cell_type": "code",
   "execution_count": 9,
   "metadata": {},
   "outputs": [
    {
     "name": "stdout",
     "output_type": "stream",
     "text": [
      "[(75, 56.0), (80, 68.0), (90, 113.0), (95, 163.0), (99, 328.4400000000005), (100, 1384.0)]\n"
     ]
    }
   ],
   "source": [
    "# To save computations I am going to truncate after 100 words (c. 90% + won't be affected)\n",
    "seq_lengths = np.array([len(s.split()) for s in sentences])\n",
    "print([(p, np.percentile(seq_lengths, p)) for p in [75, 80, 90, 95, 99, 100]])\n",
    "max_seqlen = 100"
   ]
  },
  {
   "cell_type": "markdown",
   "metadata": {},
   "source": [
    "# Prepare Dataset"
   ]
  },
  {
   "cell_type": "code",
   "execution_count": 10,
   "metadata": {},
   "outputs": [
    {
     "name": "stdout",
     "output_type": "stream",
     "text": [
      "Example sentence before: Your whole walk in treatment process was faultless as was the treatment\n",
      "Example sentence after: [ 101  269  431    8   64  382    6 1608   32    6    1   64    0    0\n",
      "    0    0    0    0    0    0    0    0    0    0    0    0    0    0\n",
      "    0    0    0    0    0    0    0    0    0    0    0    0    0    0\n",
      "    0    0    0    0    0    0    0    0    0    0    0    0    0    0\n",
      "    0    0    0    0    0    0    0    0    0    0    0    0    0    0\n",
      "    0    0    0    0    0    0    0    0    0    0    0    0    0    0\n",
      "    0    0    0    0    0    0    0    0    0    0    0    0    0    0\n",
      "    0    0]\n"
     ]
    }
   ],
   "source": [
    "# Vectorize sentences by turning words -> unique integers\n",
    "sentences_as_ints = tokenizer.texts_to_sequences(sentences)\n",
    "sentences_as_ints = tf.keras.preprocessing.sequence.pad_sequences(sentences_as_ints, maxlen=max_seqlen, padding='post')\n",
    "label_as_ints = np.array(df[\"efftreat\"])\n",
    "\n",
    "print(f'Example sentence before: {sentences[5]}')\n",
    "print(f'Example sentence after: {sentences_as_ints[5]}')"
   ]
  },
  {
   "cell_type": "code",
   "execution_count": 11,
   "metadata": {},
   "outputs": [],
   "source": [
    "# Create a tensorflow dataset out of the data / labels (allows for transformations / iteration)\n",
    "dataset = tf.data.Dataset.from_tensor_slices((sentences_as_ints, label_as_ints))"
   ]
  },
  {
   "cell_type": "markdown",
   "metadata": {},
   "source": [
    "# Train / Test / Split"
   ]
  },
  {
   "cell_type": "code",
   "execution_count": 12,
   "metadata": {},
   "outputs": [
    {
     "name": "stdout",
     "output_type": "stream",
     "text": [
      "train: 7485, val: 936, test: 936\n"
     ]
    }
   ],
   "source": [
    "# Shuffle dataset, split into c. 80%, 10%, 10%.\n",
    "dataset = dataset.shuffle(10000)\n",
    "test_size = round(len(sentences)*0.10)\n",
    "val_size = round(len(sentences)*0.10)\n",
    "test_dataset = dataset.take(test_size)\n",
    "val_dataset = dataset.skip(test_size).take(val_size)\n",
    "train_dataset = dataset.skip(test_size + val_size)\n",
    "print(f'train: {train_dataset.cardinality()}, val: {val_dataset.cardinality()}, test: {test_dataset.cardinality()}')"
   ]
  },
  {
   "cell_type": "markdown",
   "metadata": {},
   "source": []
  },
  {
   "cell_type": "code",
   "execution_count": 13,
   "metadata": {},
   "outputs": [],
   "source": [
    "# Batch dataset for faster training\n",
    "batch_size = 64\n",
    "train_dataset = train_dataset.batch(batch_size)\n",
    "val_dataset = val_dataset.batch(batch_size)\n",
    "test_dataset = test_dataset.batch(batch_size)"
   ]
  },
  {
   "cell_type": "markdown",
   "metadata": {},
   "source": [
    "# Model Build / Training"
   ]
  },
  {
   "cell_type": "code",
   "execution_count": 14,
   "metadata": {},
   "outputs": [],
   "source": [
    "# Bidrectional LSTM\n",
    "class TreatmentClassifier(tf.keras.Model):\n",
    "    def __init__(self, vocab_size, max_seqlen, **kwargs):\n",
    "        super(TreatmentClassifier, self).__init__(**kwargs)\n",
    "        self.embedding = tf.keras.layers.Embedding(vocab_size, max_seqlen)\n",
    "        self.bilstm = tf.keras.layers.Bidirectional(tf.keras.layers.LSTM(max_seqlen))\n",
    "        self.dense = tf.keras.layers.Dense(100, activation = 'relu')\n",
    "        self.out = tf.keras.layers.Dense(1, activation = 'sigmoid')\n",
    "\n",
    "    def call(self, x):\n",
    "        x = self.embedding(x)\n",
    "        x = self.bilstm(x)\n",
    "        x = self.dense(x)\n",
    "        x = self.out(x)\n",
    "        return x"
   ]
  },
  {
   "cell_type": "code",
   "execution_count": 15,
   "metadata": {},
   "outputs": [
    {
     "name": "stdout",
     "output_type": "stream",
     "text": [
      "Model: \"treatment_classifier\"\n",
      "_________________________________________________________________\n",
      "Layer (type)                 Output Shape              Param #   \n",
      "=================================================================\n",
      "embedding (Embedding)        multiple                  1689400   \n",
      "_________________________________________________________________\n",
      "bidirectional (Bidirectional multiple                  160800    \n",
      "_________________________________________________________________\n",
      "dense (Dense)                multiple                  20100     \n",
      "_________________________________________________________________\n",
      "dense_1 (Dense)              multiple                  101       \n",
      "=================================================================\n",
      "Total params: 1,870,401\n",
      "Trainable params: 1,870,401\n",
      "Non-trainable params: 0\n",
      "_________________________________________________________________\n"
     ]
    }
   ],
   "source": [
    "model = TreatmentClassifier(vocab_size+1, max_seqlen)\n",
    "model.build(input_shape=(batch_size, max_seqlen))\n",
    "model.summary()"
   ]
  },
  {
   "cell_type": "code",
   "execution_count": 17,
   "metadata": {},
   "outputs": [],
   "source": [
    "# Save best model, set up call backs\n",
    "data_dir = \"./data\"\n",
    "logs_dir = os.path.join(\"./logs\")\n",
    "best_model_file = os.path.join(data_dir, \"best_model_treat.h5\")\n",
    "checkpoint = tf.keras.callbacks.ModelCheckpoint(best_model_file, save_weights_only=True, save_best_only=True)\n",
    "tensorboard = tf.keras.callbacks.TensorBoard(log_dir=logs_dir)"
   ]
  },
  {
   "cell_type": "code",
   "execution_count": 32,
   "metadata": {},
   "outputs": [
    {
     "name": "stdout",
     "output_type": "stream",
     "text": [
      "Epoch 1/10\n",
      "  2/117 [..............................] - ETA: 5:24 - loss: 260.9449 - accuracy: 0.9844WARNING:tensorflow:Callbacks method `on_train_batch_end` is slow compared to the batch time (batch time: 0.4551s vs `on_train_batch_end` time: 5.1850s). Check your callbacks.\n",
      "117/117 [==============================] - 63s 542ms/step - loss: 357.2960 - accuracy: 0.9667 - val_loss: 0.0391 - val_accuracy: 0.9850\n",
      "Epoch 2/10\n",
      "117/117 [==============================] - 48s 407ms/step - loss: 272.9913 - accuracy: 0.9749 - val_loss: 0.0468 - val_accuracy: 0.9893\n",
      "Epoch 3/10\n",
      "117/117 [==============================] - 49s 422ms/step - loss: 214.5204 - accuracy: 0.9818 - val_loss: 0.0626 - val_accuracy: 0.9765\n",
      "Epoch 4/10\n",
      "117/117 [==============================] - 47s 401ms/step - loss: 215.3271 - accuracy: 0.9818 - val_loss: 0.0413 - val_accuracy: 0.9861\n",
      "Epoch 5/10\n",
      "117/117 [==============================] - 48s 413ms/step - loss: 174.9560 - accuracy: 0.9858 - val_loss: 0.0486 - val_accuracy: 0.9840\n",
      "Epoch 6/10\n",
      "117/117 [==============================] - 50s 427ms/step - loss: 163.4218 - accuracy: 0.9865 - val_loss: 0.0355 - val_accuracy: 0.9893\n",
      "Epoch 7/10\n",
      "117/117 [==============================] - 49s 423ms/step - loss: 153.5689 - accuracy: 0.9865 - val_loss: 0.0508 - val_accuracy: 0.9861\n",
      "Epoch 8/10\n",
      "117/117 [==============================] - 49s 420ms/step - loss: 170.4399 - accuracy: 0.9844 - val_loss: 0.0142 - val_accuracy: 0.9957\n",
      "Epoch 9/10\n",
      "117/117 [==============================] - 51s 434ms/step - loss: 169.0589 - accuracy: 0.9858 - val_loss: 0.1212 - val_accuracy: 0.9818\n",
      "Epoch 10/10\n",
      "117/117 [==============================] - 52s 449ms/step - loss: 468.3907 - accuracy: 0.9566 - val_loss: 0.0323 - val_accuracy: 0.9872\n"
     ]
    }
   ],
   "source": [
    "# Number epochs = 10 (train on data 10 times), passing through 117 batches (of 64). Add class weights. Add callbacks.\n",
    "num_epochs = 10\n",
    "model.compile(loss=\"binary_crossentropy\", optimizer=\"adam\", metrics=[\"accuracy\"])\n",
    "history = model.fit(train_dataset, epochs=num_epochs, validation_data=val_dataset, class_weight = class_weights, callbacks=[checkpoint, tensorboard])"
   ]
  },
  {
   "cell_type": "markdown",
   "metadata": {},
   "source": [
    "# Model Analysis"
   ]
  },
  {
   "cell_type": "code",
   "execution_count": 37,
   "metadata": {},
   "outputs": [
    {
     "data": {
      "image/png": "[encoded data removed]",
      "text/plain": [
       "<Figure size 432x288 with 1 Axes>"
      ]
     },
     "metadata": {
      "needs_background": "light"
     },
     "output_type": "display_data"
    }
   ],
   "source": [
    "# Plot History and BCE loss. Nice training profile. High train and validation accuracy.\n",
    "plt.plot(history.history[\"accuracy\"])\n",
    "plt.plot(history.history[\"val_accuracy\"])\n",
    "plt.xlabel(\"Epochs\")\n",
    "plt.ylabel(\"accuracy\")\n",
    "plt.legend([\"accuracy\", \"val_accuracy\"])\n",
    "plt.show()\n"
   ]
  },
  {
   "cell_type": "code",
   "execution_count": 18,
   "metadata": {},
   "outputs": [],
   "source": [
    "# Download best model from each epoch (vs. validation data)\n",
    "best_model = TreatmentClassifier(vocab_size+1, max_seqlen)\n",
    "best_model.build(input_shape=(batch_size, max_seqlen))\n",
    "best_model.load_weights(best_model_file)\n",
    "best_model.compile(loss=\"binary_crossentropy\", optimizer=\"adam\", metrics=[\"accuracy\"])"
   ]
  },
  {
   "cell_type": "code",
   "execution_count": 19,
   "metadata": {},
   "outputs": [
    {
     "name": "stdout",
     "output_type": "stream",
     "text": [
      "15/15 [==============================] - 1s 63ms/step - loss: 0.0221 - accuracy: 0.9968\n",
      "test accuracy: 0.9967948794364929, test_loss: 0.022122660651803017\n"
     ]
    }
   ],
   "source": [
    "# Test data performance....98.4% accuracy\n",
    "test_loss, test_acc = best_model.evaluate(test_dataset)\n",
    "print(f'test accuracy: {test_acc}, test_loss: {test_loss}')"
   ]
  },
  {
   "cell_type": "code",
   "execution_count": 39,
   "metadata": {},
   "outputs": [
    {
     "name": "stdout",
     "output_type": "stream",
     "text": [
      "CONFUSION MATRIX\n"
     ]
    },
    {
     "data": {
      "text/plain": [
       "array([[285,  10],\n",
       "       [  5, 636]], dtype=int64)"
      ]
     },
     "execution_count": 39,
     "metadata": {},
     "output_type": "execute_result"
    }
   ],
   "source": [
    "# Confusion Matrix. \n",
    "preds = []\n",
    "labels = []\n",
    "for test_batch in test_dataset:\n",
    "    inputs_b, labels_b = test_batch\n",
    "    pred_batch = best_model.predict(inputs_b)\n",
    "    preds.extend([1 if p > 0.5 else 0] for p in pred_batch)\n",
    "    labels.extend([l.numpy() for l in labels_b])\n",
    "\n",
    "false_pos = []\n",
    "false_neg = []\n",
    "for i in range(len(labels)):\n",
    "    if preds[i] != labels[i]:\n",
    "        if preds[i] == [1] and labels[i] == 0:\n",
    "            false_pos.append(i)\n",
    "        if preds[i] == [0] and labels[i] == 1:\n",
    "            false_neg.append(i)\n",
    "\n",
    "print(f'CONFUSION MATRIX')\n",
    "from sklearn.metrics import confusion_matrix\n",
    "confusion_matrix(labels, preds)"
   ]
  },
  {
   "cell_type": "code",
   "execution_count": 52,
   "metadata": {},
   "outputs": [
    {
     "name": "stdout",
     "output_type": "stream",
     "text": [
      "false positive indices: [344, 437, 440, 499, 543, 547, 619, 797, 855, 861]\n",
      "-----\n",
      "had to resort to coming to a e due to no available gp appointments for 2 days and i needed antibiotics asap a e staff were friendly and i was seen quickly then referred to the urgent care ward to see a helpful doctor the woman on reception at the urgent care ward this afternoon was not nice very patronising passive aggressive and seemingly irritated that anyone was even using the hospital unfortunately if people are sick and need medical attention but there are no gp appointments available they will need to use the hospital facilities\n",
      "-----\n",
      "amazing it really is please pass on my thanks to the staff who dealt with me they were amazing so professional showed excellent compassion in their individual practice and reassured me as i was in shock and rather hysterical thinking i was paralysed i really can't thank them enough i had a ct and it was clear thank the lord so i am just taking it easy and when i ski again will not be doing any jumps what so ever and will be taking it very slowly thank you again and keep up the amazing work you all do\n",
      "-----\n",
      "urology excellent service i attended kent ward for a bladder neck incision i believe i received an excellent standard of treatment form all the staff involved at the ward and the operating theatre\n",
      "-----\n",
      "finally underway with blast 3 after low bloods delay thanks to bsuh nhs for looking after me foot massages and fresh mango so far https t co ita2isstta\n",
      "-----\n",
      "grateful thanks to mr malik and the entire team at the hospital for their care during my recent stay for a knee replacement\n",
      "-----\n",
      "i thought losing my dad at 18 was the hardest thing i'd have to deal with in life wrong having 2 kids under the care of greatormondst 1 for gastro 1 for a brain tumour is im lucky to have support if things are too much for you remember to reach out help is out there\n",
      "-----\n",
      "it's a hospital car park not much you can say about it\n",
      "-----\n",
      "nationonline according to phuka of the 70 cases 66 are from the buses that just returned from south africa two are a mother and baby who were being treated at queen elizabeth central hospital the mother and child recently travelled to south africa the other two cases are\n",
      "-----\n",
      "just wanted to say thank you to andy and chris the two paramedics who helped my family member this morning they were absolutely amazing showed outstanding care and compassion keep up with the great work guys\n",
      "-----\n",
      "physiotherapy consultation punctual physio very professional knowledgeable sympathetic and provided constructive assessment and steps to go forward thank you\n"
     ]
    }
   ],
   "source": [
    "# Look at false positives\n",
    "false_pos_vectors = []\n",
    "counter = 0\n",
    "for x in test_dataset.unbatch():\n",
    "    if counter in false_pos:\n",
    "        inputs_b, labels_b = x\n",
    "        false_pos_vectors.append(inputs_b)\n",
    "    counter += 1\n",
    "\n",
    "print(f'false positive indices: {false_pos}')\n",
    "\n",
    "for vector in false_pos_vectors:\n",
    "    print(\"-----\")\n",
    "    print(\" \".join([idx2word[i] for i in list(vector.numpy()) if i !=0]))"
   ]
  },
  {
   "cell_type": "code",
   "execution_count": 53,
   "metadata": {},
   "outputs": [
    {
     "name": "stdout",
     "output_type": "stream",
     "text": [
      "false negative indices: [76, 93, 146, 237, 661]\n",
      "-----\n",
      "the two a e consultants i saw masooma rizvi and dominic harrison were both very efficient professional helpful and kind top marks there whilst the covid 19 check on entry is understandable it adds an extra layer to registration that is inefficient there is 1 covid 19 2 general reception 3 triage and some details provided 3 times and much more than just confirming id i have some understanding of queuing theory you could cut down your waiting times considerably and report a better performance by some considered thought on this process with relevant details other than confirming id jus\n",
      "-----\n",
      "thank to all of the newborn feeding team on castle acre ward and the frenulotomy team you gave me time and a listening ear but most importantly you gave me the support we needed to continue with breast feeding an amazing valuable team\n",
      "-----\n",
      "paediatric surgery woweeeee thank you nhs brilliant from beginning to end every single member of staff was helpful kind and nothing was too much trouble my little boy and i are so grateful to everyone that cared so wonderfully for him my son found it all a little scary and they dealt with him so patiently and knew all the tricks to coax him to do the right things to help his recovery thank you nhs\n",
      "-----\n",
      "1 wonderful as usual wonderful kind and fast\n",
      "-----\n",
      "thank you so much for looking after mum your care and communication as been excellent\n"
     ]
    }
   ],
   "source": [
    "# Look at false negatives\n",
    "false_neg_vectors = []\n",
    "counter = 0\n",
    "for x in test_dataset.unbatch():\n",
    "    if counter in false_neg:\n",
    "        inputs_b, labels_b = x\n",
    "        false_neg_vectors.append(inputs_b)\n",
    "    counter += 1\n",
    "\n",
    "print(f'false negative indices: {false_neg}')\n",
    "\n",
    "for vector in false_neg_vectors:\n",
    "    print(\"-----\")\n",
    "    print(\" \".join([idx2word[i] for i in list(vector.numpy()) if i !=0]))"
   ]
  }
 ],
 "metadata": {
  "interpreter": {
   "hash": "b3ba2566441a7c06988d0923437866b63cedc61552a5af99d1f4fb67d367b25f"
  },
  "kernelspec": {
   "display_name": "Python 3.8.8 64-bit ('base': conda)",
   "language": "python",
   "name": "python3"
  },
  "language_info": {
   "codemirror_mode": {
    "name": "ipython",
    "version": 3
   },
   "file_extension": ".py",
   "mimetype": "text/x-python",
   "name": "python",
   "nbconvert_exporter": "python",
   "pygments_lexer": "ipython3",
   "version": "3.8.12"
  },
  "orig_nbformat": 4
 },
 "nbformat": 4,
 "nbformat_minor": 2
}
